{
  "nbformat": 4,
  "nbformat_minor": 0,
  "metadata": {
    "colab": {
      "provenance": [],
      "authorship_tag": "ABX9TyP3GWA0hGTjgAtKpLO0rHBM",
      "include_colab_link": true
    },
    "kernelspec": {
      "name": "python3",
      "display_name": "Python 3"
    },
    "language_info": {
      "name": "python"
    }
  },
  "cells": [
    {
      "cell_type": "markdown",
      "metadata": {
        "id": "view-in-github",
        "colab_type": "text"
      },
      "source": [
        "<a href=\"https://colab.research.google.com/github/Guessit99/Simple-calculator/blob/main/Simple_calculator.ipynb\" target=\"_parent\"><img src=\"https://colab.research.google.com/assets/colab-badge.svg\" alt=\"Open In Colab\"/></a>"
      ]
    },
    {
      "cell_type": "code",
      "execution_count": null,
      "metadata": {
        "colab": {
          "base_uri": "https://localhost:8080/"
        },
        "id": "m260R2oXeePu",
        "outputId": "4ade1c93-a2d2-48ca-c538-24527c500c7b"
      },
      "outputs": [
        {
          "output_type": "stream",
          "name": "stdout",
          "text": [
            "Simple Calculator BY AZHAR SHAH\n",
            "Enter the first number: 10\n",
            "Enter the second number: 20\n",
            "Select operation (+, -, *, /): /\n",
            "Result: 0.5\n"
          ]
        }
      ],
      "source": [
        "class Calculator:\n",
        "    def add(self, num1, num2):\n",
        "        return num1 + num2\n",
        "\n",
        "    def subtract(self, num1, num2):\n",
        "        return num1 - num2\n",
        "\n",
        "    def multiply(self, num1, num2):\n",
        "        return num1 * num2\n",
        "\n",
        "    def divide(self, num1, num2):\n",
        "        if num2 == 0:\n",
        "            raise ValueError(\"Cannot divide by zero.\")\n",
        "        return num1 / num2\n",
        "\n",
        "\n",
        "def get_user_input():\n",
        "    try:\n",
        "        num1 = float(input(\"Enter the first number: \"))\n",
        "        num2 = float(input(\"Enter the second number: \"))\n",
        "        return num1, num2\n",
        "    except ValueError:\n",
        "        print(\"Invalid input. Please enter valid numbers.\")\n",
        "        return get_user_input()\n",
        "\n",
        "\n",
        "def get_operation():\n",
        "    operation = input(\"Select operation (+, -, *, /): \")\n",
        "    if operation not in ['+', '-', '*', '/']:\n",
        "        print(\"Invalid operation. Please select a valid operation.\")\n",
        "        return get_operation()\n",
        "    return operation\n",
        "\n",
        "\n",
        "def main():\n",
        "    calculator = Calculator()\n",
        "\n",
        "    print(\"Simple Calculator BY AZHAR SHAH\")\n",
        "\n",
        "    num1, num2 = get_user_input()\n",
        "    operation = get_operation()\n",
        "\n",
        "    try:\n",
        "        if operation == '+':\n",
        "            result = calculator.add(num1, num2)\n",
        "        elif operation == '-':\n",
        "            result = calculator.subtract(num1, num2)\n",
        "        elif operation == '*':\n",
        "            result = calculator.multiply(num1, num2)\n",
        "        elif operation == '/':\n",
        "            result = calculator.divide(num1, num2)\n",
        "\n",
        "        print(f\"Result: {result}\")\n",
        "\n",
        "    except ValueError as ve:\n",
        "        print(f\"Error: {ve}\")\n",
        "\n",
        "if __name__ == \"__main__\":\n",
        "    main()\n"
      ]
    }
  ]
}